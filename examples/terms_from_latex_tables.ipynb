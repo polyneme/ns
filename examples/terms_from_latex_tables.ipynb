{
 "cells": [
  {
   "cell_type": "code",
   "execution_count": null,
   "id": "2a7b0dc0",
   "metadata": {},
   "outputs": [],
   "source": [
    "%load_ext autoreload\n",
    "%autoreload 2"
   ]
  },
  {
   "cell_type": "code",
   "execution_count": null,
   "id": "69a94a85",
   "metadata": {},
   "outputs": [],
   "source": [
    "from dotenv import load_dotenv\n",
    "\n",
    "load_dotenv(\"../.env\")"
   ]
  },
  {
   "cell_type": "markdown",
   "id": "bc9c2226",
   "metadata": {},
   "source": [
    "TODO:\n",
    "* tab:el_prop (cell filled below)\n",
    "* tab:flags"
   ]
  },
  {
   "cell_type": "code",
   "execution_count": null,
   "id": "5eaae516",
   "metadata": {},
   "outputs": [],
   "source": [
    "raw_table_latex = \"\"\"\n",
    "    \\hline\n",
    "    becs & $e$ & array & $n_{\\text{sites}} \\times 3 \\times 3$ & Born effective charges \\\\\n",
    "    \\hline\n",
    "    eps\\_electronic & $-$ & array & $3 \\times 3$ & Electronic contribution to the dielectric permittivity tensor \\\\\n",
    "    \\hline\n",
    "    eps\\_total & $-$ & array & $3 \\times 3$ & Total dielectric permittivity tensor\\\\\n",
    "    \\hline\n",
    "    cnsr\\_breaking & $e$ & number & $-$ & Maximum breaking of the CNSR \\\\\n",
    "    \\hline\n",
    "\"\"\""
   ]
  },
  {
   "cell_type": "code",
   "execution_count": null,
   "id": "72819005",
   "metadata": {},
   "outputs": [],
   "source": [
    "datatype = {\"string\": \"xsd:string\", \"array\": \"qudt:Array\", \"number\": \"xsd:double\"}"
   ]
  },
  {
   "cell_type": "markdown",
   "id": "397940f8",
   "metadata": {},
   "source": [
    "XSD datatypes supported by OWL 2 RL:\n",
    "\n",
    "```\n",
    "rdf:PlainLiteral\n",
    "rdf:XMLLiteral\n",
    "rdfs:Literal\n",
    "xsd:decimal\n",
    "xsd:integer\n",
    "xsd:nonNegativeInteger\n",
    "xsd:nonPositiveInteger\n",
    "xsd:positiveInteger\n",
    "xsd:negativeInteger\n",
    "xsd:long\n",
    "xsd:int\n",
    "xsd:short\n",
    "xsd:byte\n",
    "xsd:unsignedLong\n",
    "xsd:unsignedInt\n",
    "xsd:unsignedShort\n",
    "xsd:unsignedByte\n",
    "xsd:float\n",
    "xsd:double\n",
    "xsd:string\n",
    "xsd:normalizedString\n",
    "xsd:token\n",
    "xsd:language\n",
    "xsd:Name\n",
    "xsd:NCName\n",
    "xsd:NMTOKEN\n",
    "xsd:boolean\n",
    "xsd:hexBinary\n",
    "xsd:base64Binary\n",
    "xsd:anyURI\n",
    "xsd:dateTime\n",
    "xsd:dateTimeStamp\n",
    "```\n",
    "\n",
    "Source: <https://www.w3.org/TR/owl2-profiles/#Entities_3>"
   ]
  },
  {
   "cell_type": "code",
   "execution_count": null,
   "id": "29ee791c",
   "metadata": {},
   "outputs": [],
   "source": [
    "from pprint import pprint\n",
    "\n",
    "entry = {}\n",
    "for line in raw_table_latex.splitlines():   \n",
    "    if \" & \" not in line:\n",
    "        continue\n",
    "    elts = line.split(\"&\")\n",
    "    elts = [e.replace(\"\\\\\", \"\").strip() for e in elts]\n",
    "    elts = [e for e in elts if e]\n",
    "    entry[elts[0]] = {\n",
    "        \"@type\": \"owl:DatatypeProperty\",\n",
    "        \"rdfs:range\": {\"@id\": datatype[elts[2]]},\n",
    "        \"rdfs:label\": elts[0],\n",
    "        \"skos:definition\": \" \".join(elts[4:]),\n",
    "        \"rdfs:comment\": [f\"UNITS: {elts[1]}\", f\"SHAPE: {elts[3]}\",],\n",
    "    }\n",
    "    if elts[1] != \"$-$\" or elts[3] != \"$-$\":\n",
    "        entry[elts[0]][\"rdfs:comment\"] = []\n",
    "    if elts[1] != \"$-$\":\n",
    "        entry[elts[0]][\"rdfs:comment\"].append(f\"UNITS: {elts[1]}\")\n",
    "    if elts[3] != \"$-$\":\n",
    "        entry[elts[0]][\"rdfs:comment\"].append(f\"SHAPE: {elts[3]}\")\n",
    "\n",
    "pprint(entry)"
   ]
  },
  {
   "cell_type": "code",
   "execution_count": null,
   "id": "f870765f",
   "metadata": {},
   "outputs": [],
   "source": [
    "from xyz_polyneme_ns.cli.util import req"
   ]
  },
  {
   "cell_type": "code",
   "execution_count": null,
   "id": "fb65df4c",
   "metadata": {},
   "outputs": [],
   "source": [
    "for term, info in entry.items():\n",
    "    print(term, \"...\")\n",
    "    info[\"rdfs:isDefinedBy\"] = {\n",
    "        \"@id\": \"https://ns.polyneme.xyz/ark:57802/2022/02/marda/phonons\"\n",
    "    },\n",
    "    rv = req(\"POST\", \"/2022/02/marda/phonons\", params={\"term\": term}, json=info)\n",
    "    print(rv)"
   ]
  },
  {
   "cell_type": "code",
   "execution_count": null,
   "id": "cbbd24d8",
   "metadata": {},
   "outputs": [],
   "source": [
    "raw_table_latex = \"\"\"\n",
    "    has\\_neg\\_fr & boolean & True if negative frequencies are present \\\\\n",
    "    \\hline\n",
    "    large\\_asr\\_break & boolean & True if the breaking of ASR is greater than 30~cm$^{-1}$ \\\\\n",
    "    \\hline\n",
    "    large\\_cnsr\\_break & boolean & True if the breaking of CNSR is greater than 0.2 \\\\\n",
    "    \\hline\n",
    "    small\\_q\\_neg\\_fr & boolean & True if negative frequencies are present only close to $\\Gamma$ \\\\\n",
    "    \\hline\n",
    "\"\"\""
   ]
  },
  {
   "cell_type": "code",
   "execution_count": null,
   "id": "4fea4352",
   "metadata": {},
   "outputs": [],
   "source": [
    "datatype = {\"string\": \"xsd:string\", \"array\": \"qudt:Array\", \"number\": \"xsd:double\",\n",
    "           \"boolean\": \"xsd:boolean\"}"
   ]
  },
  {
   "cell_type": "code",
   "execution_count": null,
   "id": "4505c6f3",
   "metadata": {},
   "outputs": [],
   "source": [
    "from pprint import pprint\n",
    "\n",
    "entry = {}\n",
    "for line in raw_table_latex.splitlines():   \n",
    "    if \" & \" not in line:\n",
    "        continue\n",
    "    elts = line.split(\"&\")\n",
    "    elts = [e.replace(\"\\\\\", \"\").strip() for e in elts]\n",
    "    elts = [e for e in elts if e]\n",
    "    entry[elts[0]] = {\n",
    "        \"@type\": \"owl:DatatypeProperty\",\n",
    "        \"rdfs:range\": {\"@id\": datatype[elts[1]]},\n",
    "        \"rdfs:label\": elts[0],\n",
    "        \"skos:definition\": \" \".join(elts[2:]),\n",
    "    }\n",
    "\n",
    "pprint(entry)"
   ]
  },
  {
   "cell_type": "code",
   "execution_count": null,
   "id": "27a2b1f8",
   "metadata": {},
   "outputs": [],
   "source": [
    "for term, info in entry.items():\n",
    "    print(term, \"...\")\n",
    "    info[\"rdfs:isDefinedBy\"] = {\n",
    "        \"@id\": \"https://ns.polyneme.xyz/ark:57802/2022/02/marda/phonons\"\n",
    "    },\n",
    "    rv = req(\"POST\", \"/2022/02/marda/phonons\", params={\"term\": term}, json=info)\n",
    "    print(rv)"
   ]
  },
  {
   "cell_type": "code",
   "execution_count": null,
   "id": "99f022e0",
   "metadata": {},
   "outputs": [],
   "source": []
  },
  {
   "cell_type": "code",
   "execution_count": null,
   "id": "1b5b4125",
   "metadata": {
    "scrolled": true
   },
   "outputs": [],
   "source": [
    "from rdflib import Graph, URIRef, RDFS, Literal\n",
    "\n",
    "g = Graph()\n",
    "g.add((\n",
    "    URIRef(\"http://example.com/node\"),\n",
    "    RDFS.comment,\n",
    "    Literal(\"SHAPE: $n_{\\text{sites}} \\times 3 \\times 3$\")\n",
    "))\n",
    "g.add((\n",
    "    URIRef(\"http://example.com/node\"),\n",
    "    RDFS.comment,\n",
    "    Literal(\"SHAPE: $n_{\\\\text{sites}} \\\\times 3 \\\\times 3$\")\n",
    "))\n",
    "print(\"JSON-LD:\")\n",
    "print(g.serialize(format=\"application/ld+json\"))\n",
    "print(\"\\nTurtle:\")\n",
    "print(g.serialize(format=\"text/turtle\"))\n",
    "print(\"XML:\")\n",
    "print(g.serialize(format=\"application/rdf+xml\"))\n",
    "print(\"N-Triples:\")\n",
    "print(g.serialize(format=\"nt\"))"
   ]
  },
  {
   "cell_type": "raw",
   "id": "940b9d9b",
   "metadata": {},
   "source": [
    "JSON-LD:\n",
    "[\n",
    "  {\n",
    "    \"@id\": \"http://example.com/node\",\n",
    "    \"http://www.w3.org/2000/01/rdf-schema#comment\": [\n",
    "      {\n",
    "        \"@value\": \"SHAPE: $n_{\\text{sites}} \\times 3 \\times 3$\"\n",
    "      },\n",
    "      {\n",
    "        \"@value\": \"SHAPE: $n_{\\\\text{sites}} \\\\times 3 \\\\times 3$\"\n",
    "      }\n",
    "    ]\n",
    "  }\n",
    "]\n",
    "\n",
    "Turtle:\n",
    "@prefix rdfs: <http://www.w3.org/2000/01/rdf-schema#> .\n",
    "\n",
    "<http://example.com/node> rdfs:comment \"SHAPE: $n_{\text{sites}} \times 3 \times 3$\",\n",
    "        \"SHAPE: $n_{\\\\text{sites}} \\\\times 3 \\\\times 3$\" .\n",
    "\n",
    "\n",
    "XML:\n",
    "<?xml version=\"1.0\" encoding=\"utf-8\"?>\n",
    "<rdf:RDF\n",
    "   xmlns:rdf=\"http://www.w3.org/1999/02/22-rdf-syntax-ns#\"\n",
    "   xmlns:rdfs=\"http://www.w3.org/2000/01/rdf-schema#\"\n",
    ">\n",
    "  <rdf:Description rdf:about=\"http://example.com/node\">\n",
    "    <rdfs:comment>SHAPE: $n_{\text{sites}} \times 3 \times 3$</rdfs:comment>\n",
    "    <rdfs:comment>SHAPE: $n_{\\text{sites}} \\times 3 \\times 3$</rdfs:comment>\n",
    "  </rdf:Description>\n",
    "</rdf:RDF>\n",
    "\n",
    "N-Triples:\n",
    "<http://example.com/node> <http://www.w3.org/2000/01/rdf-schema#comment> \"SHAPE: $n_{\text{sites}} \times 3 \times 3$\" .\n",
    "<http://example.com/node> <http://www.w3.org/2000/01/rdf-schema#comment> \"SHAPE: $n_{\\\\text{sites}} \\\\times 3 \\\\times 3$\" .\n",
    "\n",
    "\n"
   ]
  },
  {
   "cell_type": "code",
   "execution_count": null,
   "id": "4eb40c3d",
   "metadata": {},
   "outputs": [],
   "source": [
    "from xyz_polyneme_ns.db import mongo_db\n",
    "\n",
    "mdb = mongo_db()"
   ]
  },
  {
   "cell_type": "code",
   "execution_count": null,
   "id": "c53dd0a7",
   "metadata": {},
   "outputs": [],
   "source": [
    "# Prevent `\\t` from being rendered as a TAB character.\n",
    "\n",
    "# for tdoc in mdb.terms.find(\n",
    "#     {'rdfs:isDefinedBy': {'@id': 'https://ns.polyneme.xyz/ark:57802/2022/02/marda/phonons'}}\n",
    "# ):\n",
    "#     if \"rdfs:comment\" in tdoc:\n",
    "#         tdoc[\"rdfs:comment\"] = [c.replace(\"\\t\", \"\\\\t\") for c in tdoc[\"rdfs:comment\"]]\n",
    "#         print(tdoc[\"rdfs:comment\"])\n",
    "#         mdb.terms.update_one(\n",
    "#             {\"_id\": tdoc[\"_id\"]},\n",
    "#             {\"$set\": {\"rdfs:comment\": tdoc[\"rdfs:comment\"]}}\n",
    "#         )"
   ]
  },
  {
   "cell_type": "markdown",
   "id": "5b78017a",
   "metadata": {},
   "source": [
    "# Does the @context work?"
   ]
  },
  {
   "cell_type": "code",
   "execution_count": null,
   "id": "dc22edfc",
   "metadata": {},
   "outputs": [],
   "source": [
    "import glob"
   ]
  },
  {
   "cell_type": "code",
   "execution_count": null,
   "id": "166cfa90",
   "metadata": {},
   "outputs": [],
   "source": [
    "filenames = glob.glob(\"/Users/dwinston/Dropbox/diary/22/02/marda-phonon-data/*.json\")"
   ]
  },
  {
   "cell_type": "code",
   "execution_count": null,
   "id": "98592b8c",
   "metadata": {},
   "outputs": [],
   "source": [
    "for i, fn in enumerate(filenames):\n",
    "    print(\"file\", i+1, \"of\", len(filenames))\n",
    "    with open(fn) as f:\n",
    "        data = json.load(f)\n",
    "    data[\"@context\"] = {\n",
    "        \"@vocab\": \"https://ns.polyneme.xyz/ark:57802/2022/02/marda/phonons/\"\n",
    "    }\n",
    "    with open(\n",
    "        f\"/Users/dwinston/Dropbox/diary/22/02/marda-phonon-data/withcontext/{fn.split('/')[-1]}\", \"w\"\n",
    "    ) as f:\n",
    "        json.dump(data, f)"
   ]
  },
  {
   "cell_type": "code",
   "execution_count": null,
   "id": "743cdb0c",
   "metadata": {},
   "outputs": [],
   "source": [
    "filenames = glob.glob(\"/Users/dwinston/Dropbox/diary/22/02/marda-phonon-data/withcontext/*.json\")"
   ]
  },
  {
   "cell_type": "code",
   "execution_count": null,
   "id": "d22c6b2c",
   "metadata": {},
   "outputs": [],
   "source": [
    "from rdflib import Graph\n",
    "\n",
    "g = Graph()"
   ]
  },
  {
   "cell_type": "code",
   "execution_count": null,
   "id": "10828581",
   "metadata": {},
   "outputs": [],
   "source": [
    "for i, fn in enumerate(filenames):\n",
    "    print(\"file\", i+1, \"of\", len(filenames))\n",
    "    g.parse(fn, format=\"application/ld+json\")"
   ]
  },
  {
   "cell_type": "code",
   "execution_count": null,
   "id": "bc79a9e3",
   "metadata": {},
   "outputs": [],
   "source": [
    "g.parse(\"https://ns.polyneme.xyz/ark:57802/2022/02/marda/phonons\")"
   ]
  },
  {
   "cell_type": "code",
   "execution_count": null,
   "id": "e8baf9ef",
   "metadata": {},
   "outputs": [],
   "source": [
    "from rdflib import Namespace\n",
    "from rdflib.namespace import RDF\n",
    "from toolz import take\n",
    "\n",
    "from rdflib.plugins.sparql import prepareQuery\n",
    "\n",
    "def pprint_terms(terms, graph=g):\n",
    "    print(*[t.n3(graph.namespace_manager) for t in terms])\n",
    "\n",
    "PHONONS = Namespace(\"https://ns.polyneme.xyz/ark:57802/2022/02/marda/phonons/\")\n",
    "g.namespace_manager.bind(\"mardap\", PHONONS)\n",
    "\n",
    "q = prepareQuery(f\"\"\"\n",
    "    PREFIX mardap: <{PHONONS}>\n",
    "    \n",
    "    SELECT ?mpid ?cnsr_breaking WHERE {{\n",
    "        ?data mardap:metadata ?metadata .\n",
    "\n",
    "        ?metadata mardap:material_id ?mpid .\n",
    "        ?data mardap:dielectric ?dielectric .\n",
    "        ?dielectric mardap:cnsr_breaking ?cnsr_breaking .\n",
    "        \n",
    "        FILTER(?cnsr_breaking > 0.2)\n",
    "    }}\n",
    "\"\"\")\n",
    "\n",
    "for row in g.query(q):\n",
    "    pprint_terms(row, g)"
   ]
  },
  {
   "cell_type": "code",
   "execution_count": null,
   "id": "d0ca7a90",
   "metadata": {},
   "outputs": [],
   "source": [
    "# g.serialize(\n",
    "#     \"/Users/dwinston/Dropbox/diary/22/02/marda-phonon-data/withcontext/dataset.ttl\",\n",
    "#     format=\"ttl\"\n",
    "# )"
   ]
  },
  {
   "cell_type": "code",
   "execution_count": null,
   "id": "2da8483c",
   "metadata": {},
   "outputs": [],
   "source": [
    "# !gzip -f /Users/dwinston/Dropbox/diary/22/02/marda-phonon-data/withcontext/dataset.ttl\n",
    "# !du -h /Users/dwinston/Dropbox/diary/22/02/marda-phonon-data/withcontext/dataset.ttl.gz"
   ]
  },
  {
   "cell_type": "code",
   "execution_count": null,
   "id": "78c39d09",
   "metadata": {},
   "outputs": [],
   "source": [
    "# todo: tar and gz withcontext json files\n",
    "# tar -cvf dataset.json.tar *.json\n",
    "# gzip -f dataset.json.tar"
   ]
  }
 ],
 "metadata": {
  "kernelspec": {
   "display_name": "Python 3.8 (ns.polyneme.xyz)",
   "language": "python",
   "name": "ns"
  },
  "language_info": {
   "codemirror_mode": {
    "name": "ipython",
    "version": 3
   },
   "file_extension": ".py",
   "mimetype": "text/x-python",
   "name": "python",
   "nbconvert_exporter": "python",
   "pygments_lexer": "ipython3",
   "version": "3.8.12"
  }
 },
 "nbformat": 4,
 "nbformat_minor": 5
}
