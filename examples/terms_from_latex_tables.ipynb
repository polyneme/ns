{
 "cells": [
  {
   "cell_type": "code",
   "execution_count": 19,
   "id": "194eff0f",
   "metadata": {},
   "outputs": [],
   "source": [
    "%load_ext autoreload\n",
    "%autoreload 2"
   ]
  },
  {
   "cell_type": "code",
   "execution_count": 21,
   "id": "8eec3ff1",
   "metadata": {},
   "outputs": [
    {
     "data": {
      "text/plain": [
       "True"
      ]
     },
     "execution_count": 21,
     "metadata": {},
     "output_type": "execute_result"
    }
   ],
   "source": [
    "from dotenv import load_dotenv\n",
    "\n",
    "load_dotenv(\"../.env\")"
   ]
  },
  {
   "cell_type": "markdown",
   "id": "4448e905",
   "metadata": {},
   "source": [
    "## Table 2: Metadata"
   ]
  },
  {
   "cell_type": "code",
   "execution_count": 13,
   "id": "bc0bdb0e",
   "metadata": {},
   "outputs": [],
   "source": [
    "raw_table_latex = \"\"\"\n",
    "    \\hline\n",
    "    material\\_id &  string & MP ID number\\\\\n",
    "    \\hline\n",
    "\tformula & string & Chemical formula \\\\\n",
    "\t\\hline\n",
    "\tstructure & string & Crystal structure in Crystallographic Information File (CIF) format \\\\\n",
    "\t\\hline\n",
    "\tkpoints\\_grid & array & List of integers describing the regular grid of \\textit{k}-points\\\\\n",
    "\t\\hline\n",
    "\tkpoints\\_shifts & array & List of shifts used in the ABINIT-specific format\\\\\n",
    "\t\\hline\n",
    "\tqpoints\\_grid & array & List of integers describing the regular grid of \\textit{q}-points\\\\\n",
    "\t\\hline\n",
    "\tcutoff & number & Plane wave cutoff (Ha) \\\\\n",
    "\t\\hline\n",
    "\tpseudopotential\\_md5 & array & List of MD5 hashes uniquely identifying the pseudopotentials \\\\\n",
    "\t\\hline\n",
    "\tpoint\\_group & string & Point group in Hermann-Mauguin notation\\\\\n",
    "\t\\hline\n",
    "\tspace\\_group & number & Space group number as defined by the International Union of Crystallography \\\\\n",
    "\t\\hline\n",
    "\tnsites & number & number of atoms in the primitive cell \\\\\n",
    "\"\"\""
   ]
  },
  {
   "cell_type": "code",
   "execution_count": 29,
   "id": "3dde2b7b",
   "metadata": {},
   "outputs": [],
   "source": [
    "datatype = {\"string\": \"xsd:string\", \"array\": \"qudt:Array\", \"number\": \"xsd:decimal\"}"
   ]
  },
  {
   "cell_type": "markdown",
   "id": "470f70bb",
   "metadata": {},
   "source": [
    "XSD datatypes supported by OWL 2 RL:\n",
    "\n",
    "```\n",
    "rdf:PlainLiteral\n",
    "rdf:XMLLiteral\n",
    "rdfs:Literal\n",
    "xsd:decimal\n",
    "xsd:integer\n",
    "xsd:nonNegativeInteger\n",
    "xsd:nonPositiveInteger\n",
    "xsd:positiveInteger\n",
    "xsd:negativeInteger\n",
    "xsd:long\n",
    "xsd:int\n",
    "xsd:short\n",
    "xsd:byte\n",
    "xsd:unsignedLong\n",
    "xsd:unsignedInt\n",
    "xsd:unsignedShort\n",
    "xsd:unsignedByte\n",
    "xsd:float\n",
    "xsd:double\n",
    "xsd:string\n",
    "xsd:normalizedString\n",
    "xsd:token\n",
    "xsd:language\n",
    "xsd:Name\n",
    "xsd:NCName\n",
    "xsd:NMTOKEN\n",
    "xsd:boolean\n",
    "xsd:hexBinary\n",
    "xsd:base64Binary\n",
    "xsd:anyURI\n",
    "xsd:dateTime\n",
    "xsd:dateTimeStamp\n",
    "```\n",
    "\n",
    "Source: <https://www.w3.org/TR/owl2-profiles/#Entities_3>"
   ]
  },
  {
   "cell_type": "code",
   "execution_count": 33,
   "id": "896f1c3b",
   "metadata": {},
   "outputs": [
    {
     "name": "stdout",
     "output_type": "stream",
     "text": [
      "{'cutoff': {'@type': 'owl:DatatypeProperty',\n",
      "            'rdfs:label': 'cutoff',\n",
      "            'rdfs:range': {'@id': 'xsd:double'},\n",
      "            'skos:definition': 'Plane wave cutoff (Ha)'},\n",
      " 'formula': {'@type': 'owl:DatatypeProperty',\n",
      "             'rdfs:label': 'formula',\n",
      "             'rdfs:range': {'@id': 'xsd:string'},\n",
      "             'skos:definition': 'Chemical formula'},\n",
      " 'kpoints_grid': {'@type': 'owl:DatatypeProperty',\n",
      "                  'rdfs:label': 'kpoints_grid',\n",
      "                  'rdfs:range': {'@id': 'qudt:Array'},\n",
      "                  'skos:definition': 'List of integers describing the regular '\n",
      "                                     'grid of extit{k}-points'},\n",
      " 'kpoints_shifts': {'@type': 'owl:DatatypeProperty',\n",
      "                    'rdfs:label': 'kpoints_shifts',\n",
      "                    'rdfs:range': {'@id': 'qudt:Array'},\n",
      "                    'skos:definition': 'List of shifts used in the '\n",
      "                                       'ABINIT-specific format'},\n",
      " 'material_id': {'@type': 'owl:DatatypeProperty',\n",
      "                 'rdfs:label': 'material_id',\n",
      "                 'rdfs:range': {'@id': 'xsd:string'},\n",
      "                 'skos:definition': 'MP ID number'},\n",
      " 'nsites': {'@type': 'owl:DatatypeProperty',\n",
      "            'rdfs:label': 'nsites',\n",
      "            'rdfs:range': {'@id': 'xsd:positiveInteger'},\n",
      "            'skos:definition': 'number of atoms in the primitive cell'},\n",
      " 'point_group': {'@type': 'owl:DatatypeProperty',\n",
      "                 'rdfs:label': 'point_group',\n",
      "                 'rdfs:range': {'@id': 'xsd:string'},\n",
      "                 'skos:definition': 'Point group in Hermann-Mauguin notation'},\n",
      " 'pseudopotential_md5': {'@type': 'owl:DatatypeProperty',\n",
      "                         'rdfs:label': 'pseudopotential_md5',\n",
      "                         'rdfs:range': {'@id': 'qudt:Array'},\n",
      "                         'skos:definition': 'List of MD5 hashes uniquely '\n",
      "                                            'identifying the pseudopotentials'},\n",
      " 'qpoints_grid': {'@type': 'owl:DatatypeProperty',\n",
      "                  'rdfs:label': 'qpoints_grid',\n",
      "                  'rdfs:range': {'@id': 'qudt:Array'},\n",
      "                  'skos:definition': 'List of integers describing the regular '\n",
      "                                     'grid of extit{q}-points'},\n",
      " 'space_group': {'@type': 'owl:DatatypeProperty',\n",
      "                 'rdfs:label': 'space_group',\n",
      "                 'rdfs:range': {'@id': 'xsd:positiveInteger'},\n",
      "                 'skos:definition': 'Space group number as defined by the '\n",
      "                                    'International Union of Crystallography'},\n",
      " 'structure': {'@type': 'owl:DatatypeProperty',\n",
      "               'rdfs:label': 'structure',\n",
      "               'rdfs:range': {'@id': 'xsd:string'},\n",
      "               'skos:definition': 'Crystal structure in Crystallographic '\n",
      "                                  'Information File (CIF) format'}}\n"
     ]
    }
   ],
   "source": [
    "from pprint import pprint\n",
    "\n",
    "entry = {}\n",
    "for line in raw_table_latex.splitlines():\n",
    "    elts = line.split()\n",
    "    if '&' not in elts:\n",
    "        continue\n",
    "    elts = [e.replace(\"\\\\\", \"\") for e in elts]\n",
    "    elts = [e for e in elts if e]\n",
    "    entry[elts[0]] = {\n",
    "        \"@type\": \"owl:DatatypeProperty\",\n",
    "        \"rdfs:range\": {\"@id\": datatype[elts[2]]},\n",
    "        \"rdfs:label\": elts[0],\n",
    "        \"skos:definition\": \" \".join(elts[4:])\n",
    "    }\n",
    "\n",
    "entry[\"cutoff\"][\"rdfs:range\"][\"@id\"] = \"xsd:double\"\n",
    "entry[\"nsites\"][\"rdfs:range\"][\"@id\"] = \"xsd:positiveInteger\"\n",
    "entry[\"space_group\"][\"rdfs:range\"][\"@id\"] = \"xsd:positiveInteger\"\n",
    "pprint(entry)"
   ]
  },
  {
   "cell_type": "code",
   "execution_count": 34,
   "id": "5809b621",
   "metadata": {},
   "outputs": [],
   "source": [
    "from xyz_polyneme_ns.cli.util import req"
   ]
  },
  {
   "cell_type": "code",
   "execution_count": 36,
   "id": "049cd2d6",
   "metadata": {},
   "outputs": [
    {
     "name": "stdout",
     "output_type": "stream",
     "text": [
      "material_id ...\n",
      "<Response [409]>\n",
      "formula ...\n",
      "<Response [409]>\n",
      "structure ...\n",
      "<Response [409]>\n",
      "kpoints_grid ...\n",
      "<Response [409]>\n",
      "kpoints_shifts ...\n",
      "<Response [409]>\n",
      "qpoints_grid ...\n",
      "<Response [409]>\n",
      "cutoff ...\n",
      "<Response [409]>\n",
      "pseudopotential_md5 ...\n",
      "<Response [409]>\n",
      "point_group ...\n",
      "<Response [409]>\n",
      "space_group ...\n",
      "<Response [409]>\n",
      "nsites ...\n",
      "<Response [409]>\n"
     ]
    }
   ],
   "source": [
    "for term, info in entry.items():\n",
    "    print(term, \"...\")\n",
    "    rv = req(\"POST\", \"/2022/02/marda/phonons\", params={\"term\": term}, json=info)\n",
    "    print(rv)"
   ]
  },
  {
   "cell_type": "code",
   "execution_count": 37,
   "id": "554c4287",
   "metadata": {},
   "outputs": [
    {
     "name": "stdout",
     "output_type": "stream",
     "text": [
      "material_id ...\n",
      "<Response [200]>\n",
      "formula ...\n",
      "<Response [200]>\n",
      "structure ...\n",
      "<Response [200]>\n",
      "kpoints_grid ...\n",
      "<Response [200]>\n",
      "kpoints_shifts ...\n",
      "<Response [200]>\n",
      "qpoints_grid ...\n",
      "<Response [200]>\n",
      "cutoff ...\n",
      "<Response [200]>\n",
      "pseudopotential_md5 ...\n",
      "<Response [200]>\n",
      "point_group ...\n",
      "<Response [200]>\n",
      "space_group ...\n",
      "<Response [200]>\n",
      "nsites ...\n",
      "<Response [200]>\n"
     ]
    }
   ],
   "source": [
    "for term, info in entry.items():\n",
    "    print(term, \"...\")\n",
    "    rv = req(\"PATCH\", f\"/2022/02/marda/phonons/{term}\", json={\n",
    "        \"update\": {\n",
    "            \"$set\": {\n",
    "                \"rdfs:isDefinedBy\": {\n",
    "                    \"@id\": \"https://ns.polyneme.xyz/ark:57802/2022/02/marda/phonons\"\n",
    "                }\n",
    "            }}})\n",
    "    print(rv)"
   ]
  },
  {
   "cell_type": "code",
   "execution_count": null,
   "id": "847a3a04",
   "metadata": {},
   "outputs": [],
   "source": []
  }
 ],
 "metadata": {
  "kernelspec": {
   "display_name": "Python 3.8 (ns.polyneme.xyz)",
   "language": "python",
   "name": "ns"
  },
  "language_info": {
   "codemirror_mode": {
    "name": "ipython",
    "version": 3
   },
   "file_extension": ".py",
   "mimetype": "text/x-python",
   "name": "python",
   "nbconvert_exporter": "python",
   "pygments_lexer": "ipython3",
   "version": "3.8.12"
  }
 },
 "nbformat": 4,
 "nbformat_minor": 5
}
